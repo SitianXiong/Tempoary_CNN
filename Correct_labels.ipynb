{
  "nbformat": 4,
  "nbformat_minor": 0,
  "metadata": {
    "colab": {
      "name": "Correct_labels.ipynb",
      "provenance": [],
      "collapsed_sections": [],
      "include_colab_link": true
    },
    "kernelspec": {
      "name": "python3",
      "display_name": "Python 3"
    },
    "language_info": {
      "name": "python"
    }
  },
  "cells": [
    {
      "cell_type": "markdown",
      "metadata": {
        "id": "view-in-github",
        "colab_type": "text"
      },
      "source": [
        "<a href=\"https://colab.research.google.com/github/SitianXiong/Tempoary_CNN/blob/master/Correct_labels.ipynb\" target=\"_parent\"><img src=\"https://colab.research.google.com/assets/colab-badge.svg\" alt=\"Open In Colab\"/></a>"
      ]
    },
    {
      "cell_type": "code",
      "execution_count": 1,
      "metadata": {
        "colab": {
          "base_uri": "https://localhost:8080/"
        },
        "id": "DlVuJv4dCIBC",
        "outputId": "0b91f2e5-f8a1-4f55-e8b0-28ef8df41170"
      },
      "outputs": [
        {
          "output_type": "stream",
          "name": "stdout",
          "text": [
            "To authorize access needed by Earth Engine, open the following URL in a web browser and follow the instructions. If the web browser does not start automatically, please manually browse the URL below.\n",
            "\n",
            "    https://code.earthengine.google.com/client-auth?scopes=https%3A//www.googleapis.com/auth/earthengine%20https%3A//www.googleapis.com/auth/devstorage.full_control&request_id=eeKDAFDlxOtqGSrvANsnu2P-PW4qfoeOUDWhA14WcVc&tc=CP3rjs_VjML0xVPcJzOCiBYodO8a-RET2NIK01bm6Z4&cc=9Ou6ZpiNkQJOW64yFpFt9ATcvkyuZOCdts-mkI8DteQ\n",
            "\n",
            "The authorization workflow will generate a code, which you should paste in the box below.\n",
            "Enter verification code: 4/1AdQt8qjalf2UTORuzlO0NtT8lltHTDdSW2jRTXc0wMrPti0bpjel0v852rI\n",
            "\n",
            "Successfully saved authorization token.\n"
          ]
        }
      ],
      "source": [
        "#@title Authenticate and initialize GEE\n",
        "import ee\n",
        "\n",
        "# Trigger the authentication flow.\n",
        "ee.Authenticate()\n",
        "\n",
        "# Initialize the library.\n",
        "ee.Initialize()"
      ]
    },
    {
      "cell_type": "markdown",
      "source": [
        "## Here we define a python GEE API version of list_dir()"
      ],
      "metadata": {
        "id": "Jmg7zay9KFQs"
      }
    },
    {
      "cell_type": "code",
      "source": [
        "# define a python version of Sitian's list_dir()\n",
        "\n",
        "def list_dir(dir):\n",
        "  # list files in old dir\n",
        "    obj_list = []\n",
        "    f = ee.data.listAssets({'parent':dir,'pageSize':1500})['assets']\n",
        "    for i in range(len(f)):\n",
        "        name = f[i]['name'] #get obj name (not full path)\n",
        "        obj_list.append(name)\n",
        "  \n",
        "    return obj_list\n",
        "  "
      ],
      "metadata": {
        "id": "A5n3lK4wE_Vn"
      },
      "execution_count": 23,
      "outputs": []
    },
    {
      "cell_type": "markdown",
      "source": [
        "## Here we import the zamtile_i (tile bbox), original field boudaries, and revised field boundaries"
      ],
      "metadata": {
        "id": "eMKyHWo9KPm6"
      }
    },
    {
      "cell_type": "code",
      "source": [
        "import os\n",
        "\n",
        "#No need to import ee here because you imported it in previous cell.\n",
        "#import ee\n",
        "\n",
        "zamtile_i = ee.FeatureCollection(\"users/stxiong8/Zamtile_600_i\")\n",
        "\n",
        "# I tried to create a function called 'correct_labels'. This part should put in between 6 and 7.\n",
        "\n",
        "# path = 'users/stxiong8/Utilities:manage_asset'\n",
        "# def correct_labels(path):\n",
        "#   dir_list = os.listdir(path) \n",
        "#   file_list=[export_ft]\n",
        "#   i=0\n",
        "#   for i in len(os.listdir(path)):\n",
        "#       if ee.FeatureCollection(merge_fields4).filterBounds(tile.geometry()) = ee.Feature(ft.geometry()):\n",
        "#         os.rename(fields_in_a_tile, tile_name)\n",
        "#       i+=1\n",
        "#       print(fields_in_a_tile)\n",
        "\n",
        "\n",
        "# From here, I only took 'var' away from original scripts in GEE\n",
        "\n",
        "# WE USE THE PYTHON VERSION OF list_dir defined above\n",
        "#list_dir = ('users/stxiong8/Utilities:manage_asset').list_dir\n",
        "all_fields = list_dir('projects/zamlc2020unet/assets/AEZ_I/')\n",
        "revise_fields = list_dir('projects/zamlc2020unet/assets/AEZ_I_revise/')\n",
        "\n",
        "# you can print the all_fields.  It should be a\n",
        "# list of ids of field boundary tiles\n",
        "#print(all_fields)\n",
        "#print(revise_fields)\n",
        "\n",
        "zamtile_i = ee.FeatureCollection(zamtile_i.toList(5))\n",
        "print(\"We have imported ({}) of zamtile_i, ({}) of original field boundary tiles, and ({}) revised field boudary tiles.\".format(len(zamtile_i.getInfo()), len(all_fields), len(revise_fields)))\n"
      ],
      "metadata": {
        "colab": {
          "base_uri": "https://localhost:8080/"
        },
        "outputId": "96ef08be-7100-4903-fd73-d988f218a19d",
        "id": "YXf1_Vr0-h-W"
      },
      "execution_count": 34,
      "outputs": [
        {
          "output_type": "stream",
          "name": "stdout",
          "text": [
            "57\n",
            "We have imported (3) of zamtile_i, (514) of original field boundary tiles, and (57) revised field boudary tiles.\n"
          ]
        }
      ]
    },
    {
      "cell_type": "markdown",
      "source": [
        "## Now we do the rest of things except for the data export"
      ],
      "metadata": {
        "id": "DQO2H2I4LQEv"
      }
    },
    {
      "cell_type": "code",
      "source": [
        "\n",
        "\n",
        "def poly_to_ft(coords):\n",
        "  return ee.Feature(ee.Geometry.Polygon(coords))\n",
        "\n",
        "#2. merge all field boundaries into featurecollections\n",
        "all_fields1 = ee.FeatureCollection(list(map(lambda x: ee.FeatureCollection(x), all_fields)))\n",
        "revise_fields1 = ee.FeatureCollection(list(map(lambda x: ee.FeatureCollection(x), revise_fields)))\n",
        "\n",
        "# make a single feature collection\n",
        "all_fields2 = ee.FeatureCollection(all_fields1).flatten()\n",
        "\n",
        "revise_fields2 = ee.FeatureCollection(revise_fields1).flatten()\n",
        "#print(revise_fields1.getInfo())\n",
        "\n",
        "#3. merge 2 fields featurecollections\n",
        "merge_fields = all_fields2.merge(revise_fields2)\n",
        "\n",
        "# 4. merge fields and tiles featurecollection\n",
        "\n",
        "merge_fields_tiles = merge_fields.merge(zamtile_i)\n",
        "\n",
        "\n",
        "# 5. convert merge_fields_tiles featurecollection to feature \n",
        "merge_fields3 = merge_fields.geometry()\n",
        "\n",
        "#Here we convert each field (a closed circle) to a feature\n",
        "\n",
        "merge_fields4 = merge_fields3.coordinates().map(poly_to_ft)#ee.Feature(merge_fields3)\n",
        "print(merge_fields4.size().getInfo(),'merge_fields4')\n",
        "\n",
        "\n",
        "\n",
        "# 6. correct fields names\n",
        "def correct_name(tile): \n",
        "    ft = ee.FeatureCollection(merge_fields4).filterBounds(tile.geometry())\n",
        "    ft = ee.Feature(ft.geometry())\n",
        "    ft = ft.set({'name': tile.get('name')})  \n",
        "    return ft\n",
        "  \n",
        "\n",
        "\n",
        " \n",
        "# we loop on all tiles and export_ft will be a featurecollection, which each feature is a field boudaries that within the corresponding tile \n",
        "export_ft = zamtile_i.map(correct_name,True)\n",
        "print(export_ft.size().getInfo())\n",
        "\n",
        "\n",
        "\n"
      ],
      "metadata": {
        "colab": {
          "base_uri": "https://localhost:8080/"
        },
        "id": "kUKs03ugJ0Re",
        "outputId": "c3d8fe07-4230-432d-c7f7-1d239fee56a7"
      },
      "execution_count": 164,
      "outputs": [
        {
          "output_type": "stream",
          "name": "stdout",
          "text": [
            "3771 merge_fields4\n",
            "5\n"
          ]
        }
      ]
    },
    {
      "cell_type": "markdown",
      "source": [
        "## Export \n"
      ],
      "metadata": {
        "id": "cfro5yv2qRea"
      }
    },
    {
      "cell_type": "code",
      "source": [
        "l = export_ft.size().getInfo()\n",
        "print(l)\n",
        "for i in range(l):\n",
        "\n",
        "    fields_in_a_tile =  ee.Feature(export_ft.toList(1e6).get(i))\n",
        "    tile_name = fields_in_a_tile.get('name').getInfo()\n",
        "  \n",
        "\n",
        "    fields_in_a_tile = ee.FeatureCollection([fields_in_a_tile])\n",
        "\n",
        "    task = ee.batch.Export.table.toAsset(collection=fields_in_a_tile, \n",
        "                                          description=tile_name, \n",
        "                                          assetId= 'projects/zamlc2020unet/assets/AEZ_I_test_Sitian/'+tile_name\n",
        "                                        )\n",
        "\n",
        "\n",
        "    task.start()\n",
        "  \n"
      ],
      "metadata": {
        "colab": {
          "base_uri": "https://localhost:8080/"
        },
        "id": "DEAjCNIeQdxr",
        "outputId": "79876439-b62c-41e3-a20e-3da3dfdda3ba"
      },
      "execution_count": 166,
      "outputs": [
        {
          "output_type": "stream",
          "name": "stdout",
          "text": [
            "5\n"
          ]
        }
      ]
    }
  ]
}